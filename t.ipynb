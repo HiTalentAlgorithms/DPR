{
 "cells": [
  {
   "cell_type": "code",
   "execution_count": null,
   "id": "initial_id",
   "metadata": {
    "collapsed": true
   },
   "outputs": [],
   "source": [
    "'''\n",
    "BiEncoder(\n",
    "  (question_model): DPRQuestionEncoder(\n",
    "    (question_encoder): DPREncoder(\n",
    "      (bert_model): BertModel(\n",
    "        (embeddings): BertEmbeddings(\n",
    "          (word_embeddings): Embedding(30522, 768, padding_idx=0)\n",
    "          (position_embeddings): Embedding(512, 768)\n",
    "          (token_type_embeddings): Embedding(2, 768)\n",
    "          (LayerNorm): LayerNorm((768,), eps=1e-12, elementwise_affine=True)\n",
    "          (dropout): Dropout(p=0.1, inplace=False)\n",
    "        )\n",
    "        (encoder): BertEncoder(\n",
    "          (layer): ModuleList(\n",
    "            (0-11): 12 x BertLayer(\n",
    "              (attention): BertAttention(\n",
    "                (self): BertSelfAttention(\n",
    "                  (query): Linear(in_features=768, out_features=768, bias=True)\n",
    "                  (key): Linear(in_features=768, out_features=768, bias=True)\n",
    "                  (value): Linear(in_features=768, out_features=768, bias=True)\n",
    "                  (dropout): Dropout(p=0.1, inplace=False)\n",
    "                )\n",
    "                (output): BertSelfOutput(\n",
    "                  (dense): Linear(in_features=768, out_features=768, bias=True)\n",
    "                  (LayerNorm): LayerNorm((768,), eps=1e-12, elementwise_affine=True)\n",
    "                  (dropout): Dropout(p=0.1, inplace=False)\n",
    "                )\n",
    "              )\n",
    "              (intermediate): BertIntermediate(\n",
    "                (dense): Linear(in_features=768, out_features=3072, bias=True)\n",
    "                (intermediate_act_fn): GELUActivation()\n",
    "              )\n",
    "              (output): BertOutput(\n",
    "                (dense): Linear(in_features=3072, out_features=768, bias=True)\n",
    "                (LayerNorm): LayerNorm((768,), eps=1e-12, elementwise_affine=True)\n",
    "                (dropout): Dropout(p=0.1, inplace=False)\n",
    "              )\n",
    "            )\n",
    "          )\n",
    "        )\n",
    "      )\n",
    "    )\n",
    "  )\n",
    "  (ctx_model): DPRContextEncoder(\n",
    "    (ctx_encoder): DPREncoder(\n",
    "      (bert_model): BertModel(\n",
    "        (embeddings): BertEmbeddings(\n",
    "          (word_embeddings): Embedding(30522, 768, padding_idx=0)\n",
    "          (position_embeddings): Embedding(512, 768)\n",
    "          (token_type_embeddings): Embedding(2, 768)\n",
    "          (LayerNorm): LayerNorm((768,), eps=1e-12, elementwise_affine=True)\n",
    "          (dropout): Dropout(p=0.1, inplace=False)\n",
    "        )\n",
    "        (encoder): BertEncoder(\n",
    "          (layer): ModuleList(\n",
    "            (0-11): 12 x BertLayer(\n",
    "              (attention): BertAttention(\n",
    "                (self): BertSelfAttention(\n",
    "                  (query): Linear(in_features=768, out_features=768, bias=True)\n",
    "                  (key): Linear(in_features=768, out_features=768, bias=True)\n",
    "                  (value): Linear(in_features=768, out_features=768, bias=True)\n",
    "                  (dropout): Dropout(p=0.1, inplace=False)\n",
    "                )\n",
    "                (output): BertSelfOutput(\n",
    "                  (dense): Linear(in_features=768, out_features=768, bias=True)\n",
    "                  (LayerNorm): LayerNorm((768,), eps=1e-12, elementwise_affine=True)\n",
    "                  (dropout): Dropout(p=0.1, inplace=False)\n",
    "                )\n",
    "              )\n",
    "              (intermediate): BertIntermediate(\n",
    "                (dense): Linear(in_features=768, out_features=3072, bias=True)\n",
    "                (intermediate_act_fn): GELUActivation()\n",
    "              )\n",
    "              (output): BertOutput(\n",
    "                (dense): Linear(in_features=3072, out_features=768, bias=True)\n",
    "                (LayerNorm): LayerNorm((768,), eps=1e-12, elementwise_affine=True)\n",
    "                (dropout): Dropout(p=0.1, inplace=False)\n",
    "              )\n",
    "            )\n",
    "          )\n",
    "        )\n",
    "      )\n",
    "    )\n",
    "  )\n",
    ")'''"
   ]
  },
  {
   "cell_type": "code",
   "outputs": [],
   "source": [
    "best_validation_checkpoint='/workspace/shared/DPR/output/dpr_biencoder.0'\n",
    "\n",
    "\n"
   ],
   "metadata": {
    "collapsed": false
   },
   "id": "26fae1d6b7800497"
  },
  {
   "cell_type": "code",
   "outputs": [],
   "source": [
    "!python3 generate_dense_embeddings.py \\\n",
    "    ctx_src='dpr_hitalent' \\\n",
    "    model_file='/workspace/shared/DPR/output/dpr_biencoder.0' \\ \n",
    "    out_file='/workspace/shared/DPR/output/test_res'"
   ],
   "metadata": {
    "collapsed": false,
    "is_executing": true
   },
   "id": "5caf6c64c27e7640"
  },
  {
   "cell_type": "code",
   "outputs": [],
   "source": [
    "from transformers import DPRContextEncoder, DPRContextEncoderTokenizer\n",
    "\n",
    "tokenizer = DPRContextEncoderTokenizer.from_pretrained(\"facebook/dpr-ctx_encoder-single-nq-base\")\n",
    "model = DPRContextEncoder.from_pretrained(\"facebook/dpr-ctx_encoder-single-nq-base\")\n",
    "input_ids = tokenizer(\"Hello, is my dog cute ?\", return_tensors=\"pt\")[\"input_ids\"]\n",
    "embeddings = model(input_ids).pooler_output\n",
    "\n",
    "\n",
    "\n",
    "from transformers import DPRQuestionEncoder, DPRQuestionEncoderTokenizer\n",
    "\n",
    "tokenizer = DPRQuestionEncoderTokenizer.from_pretrained(\"facebook/dpr-question_encoder-single-nq-base\")\n",
    "model = DPRQuestionEncoder.from_pretrained(\"facebook/dpr-question_encoder-single-nq-base\")\n",
    "input_ids = tokenizer(\"Hello, is my dog cute ?\", return_tensors=\"pt\")[\"input_ids\"]\n",
    "embeddings = model(input_ids).pooler_output"
   ],
   "metadata": {
    "collapsed": false
   },
   "id": "78dba644ca3053cd"
  }
 ],
 "metadata": {
  "kernelspec": {
   "display_name": "Python 3",
   "language": "python",
   "name": "python3"
  },
  "language_info": {
   "codemirror_mode": {
    "name": "ipython",
    "version": 2
   },
   "file_extension": ".py",
   "mimetype": "text/x-python",
   "name": "python",
   "nbconvert_exporter": "python",
   "pygments_lexer": "ipython2",
   "version": "2.7.6"
  }
 },
 "nbformat": 4,
 "nbformat_minor": 5
}
